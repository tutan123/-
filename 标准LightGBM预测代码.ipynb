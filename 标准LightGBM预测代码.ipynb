{
 "cells": [
  {
   "cell_type": "code",
   "execution_count": 3,
   "metadata": {},
   "outputs": [],
   "source": [
    "import pandas as pd\n",
    "import numpy as np\n",
    "from sklearn.metrics import roc_curve\n",
    "from sklearn.model_selection import train_test_split\n",
    "from sklearn.metrics import classification_report\n",
    "from sklearn.metrics import auc\n",
    "import pickle\n",
    "import lightgbm as lgb\n",
    "from sklearn.externals import joblib\n",
    "import os"
   ]
  },
  {
   "cell_type": "code",
   "execution_count": null,
   "metadata": {},
   "outputs": [],
   "source": [
    "os.makedirs('./result')\n",
    "filename = './data/data.csv'\n",
    "modelname1 = './model/lgb1.pkl'\n",
    "modelname2 = './model/lgb2.pkl'\n",
    "modelname3 = './model/lgb3.pkl'\n",
    "modelname4 = './model/lgb4.pkl'\n",
    "modelname5 = './model/lgb5.pkl'"
   ]
  },
  {
   "cell_type": "code",
   "execution_count": null,
   "metadata": {},
   "outputs": [],
   "source": [
    "resultfile = './result/Prediction_Result.csv'\n",
    "resultfileOrigin = './result/Prediction_Result_Origion.csv'\n",
    "reader = pd.read_csv(filename, header=0, delimiter = '\\t', index_col=0, iterator = True,)\n"
   ]
  },
  {
   "cell_type": "code",
   "execution_count": null,
   "metadata": {},
   "outputs": [],
   "source": [
    "col_index_name = ['batch_no','age_app','sex_app','newvalue','seats','xb','quote_times','channel_source','nprem','si_tp','last_policy_complaint_cnt',]\n",
    "cate_cols = ['sex_app','xb','channel_source','mark_price_int','mark_profit_int','is_lossend_nosms','is_high_risk_coordination']"
   ]
  },
  {
   "cell_type": "code",
   "execution_count": 5,
   "metadata": {},
   "outputs": [
    {
     "ename": "NameError",
     "evalue": "name 'modelname1' is not defined",
     "output_type": "error",
     "traceback": [
      "\u001b[1;31m---------------------------------------------------------------------------\u001b[0m",
      "\u001b[1;31mNameError\u001b[0m                                 Traceback (most recent call last)",
      "\u001b[1;32m<ipython-input-5-8678425c7dc1>\u001b[0m in \u001b[0;36m<module>\u001b[1;34m()\u001b[0m\n\u001b[1;32m----> 1\u001b[1;33m \u001b[0mlgbmodel1\u001b[0m \u001b[1;33m=\u001b[0m \u001b[0mjoblib\u001b[0m\u001b[1;33m.\u001b[0m\u001b[0mload\u001b[0m\u001b[1;33m(\u001b[0m\u001b[0mmodelname1\u001b[0m\u001b[1;33m)\u001b[0m\u001b[1;33m\u001b[0m\u001b[0m\n\u001b[0m\u001b[0;32m      2\u001b[0m \u001b[0mlgbmodel1\u001b[0m \u001b[1;33m=\u001b[0m \u001b[0mjoblib\u001b[0m\u001b[1;33m.\u001b[0m\u001b[0mload\u001b[0m\u001b[1;33m(\u001b[0m\u001b[0mmodelname1\u001b[0m\u001b[1;33m)\u001b[0m\u001b[1;33m\u001b[0m\u001b[0m\n\u001b[0;32m      3\u001b[0m \u001b[0mlgbmodel1\u001b[0m \u001b[1;33m=\u001b[0m \u001b[0mjoblib\u001b[0m\u001b[1;33m.\u001b[0m\u001b[0mload\u001b[0m\u001b[1;33m(\u001b[0m\u001b[0mmodelname1\u001b[0m\u001b[1;33m)\u001b[0m\u001b[1;33m\u001b[0m\u001b[0m\n\u001b[0;32m      4\u001b[0m \u001b[0mlgbmodel1\u001b[0m \u001b[1;33m=\u001b[0m \u001b[0mjoblib\u001b[0m\u001b[1;33m.\u001b[0m\u001b[0mload\u001b[0m\u001b[1;33m(\u001b[0m\u001b[0mmodelname1\u001b[0m\u001b[1;33m)\u001b[0m\u001b[1;33m\u001b[0m\u001b[0m\n",
      "\u001b[1;31mNameError\u001b[0m: name 'modelname1' is not defined"
     ]
    }
   ],
   "source": [
    "lgbmodel1 = joblib.load(modelname1)\n",
    "lgbmodel2 = joblib.load(modelname2)\n",
    "lgbmodel3 = joblib.load(modelname3)\n",
    "lgbmodel4 = joblib.load(modelname4)\n",
    "lgbmodel5 = joblib.load(modelname5)"
   ]
  },
  {
   "cell_type": "code",
   "execution_count": null,
   "metadata": {},
   "outputs": [],
   "source": [
    "def predictionFunction(lgdmodel, test_data, col_index_name, currentTarget):\n",
    "    res = pd.DataFrame() # 用于存放预测结果\n",
    "    res['FRAMENUM'] = test_data['FRAMENUM']\n",
    "    test_data = test_data[col_index_name]\n",
    "    # TODO 分箱等\n",
    "    # 1.将时间特征按照距今天多久处理\n",
    "    import time\n",
    "    import datetime\n",
    "    for name in datetimeFeatures:\n",
    "        test_data[name] = (pd.to_datetime(test_data[name]).dt.date - pd.datatime.now().date()).dt.days\n",
    "        print(name)\n",
    "        try:\n",
    "            test_date[name] = (pd.to_datetime(test_data[name]).dt.date - pd.datetime.now().date()).dt.days\n",
    "        except Exception:\n",
    "            print(\"null date\")\n",
    "    # 2.处理类别型变量\n",
    "    cate_cols = test_data.select_dtypes(include='object').columns\n",
    "    cate_cols = list(cate_cols)\n",
    "    print(cate_cols)\n",
    "    # 将object类型转成category类型\n",
    "    for c in cate_cols:\n",
    "        test_data[c] = test_data[c].astype('category')\n",
    "    pred_list_prob = lgbmodel.predict_proba(test_data,)\n",
    "    res[currentTarget] = pred_list_prob[:,1]\n",
    "    return res"
   ]
  },
  {
   "cell_type": "code",
   "execution_count": null,
   "metadata": {},
   "outputs": [],
   "source": [
    "chunkSize = 1000000\n",
    "predict_result = pd.DataFrame()\n",
    "loop = True\n",
    "i = 1\n",
    "while loop:\n",
    "    try:\n",
    "        chunk  = reader.get_chunk(chunkSize)\n",
    "        newdata = chunk\n",
    "        newdata['FRAMENUM'] = newdata.index\n",
    "        print(\"predicting {} test_data\".format(i))\n",
    "        predict_part1 = predictFunction(lgbmodel1, newdata, col_index_name, 'QUALITY')\n",
    "        predict_part2 = predictFunction(lgbmodel2, newdata, col_index_name, 'ATTITUDE')\n",
    "        predict_part3 = predictFunction(lgbmodel3, newdata, col_index_name, 'TIME')\n",
    "        predict_part4 = predictFunction(lgbmodel4, newdata, col_index_name, 'SKILL')\n",
    "        predict_part5 = predictFunction(lgbmodel5, newdata, col_index_name, 'MONEY')\n",
    "        predict_part = pd.concat([predict_part1['FRAMENUM'],predict_part1['QUALITY'],predict_part2['ATTITUDE'],\n",
    "                                  predict_part3['TIME'],predict_part4['SKILL'],predict_part5['MONEY']], axis=1)\n",
    "        print(\"predict {} test_data is done\".format(i))\n",
    "        # 拼接预测结果\n",
    "        predict_result = predict_result.append(predict_part)\n",
    "        # 输出原始预测结果\n",
    "        predict_part.to_csv(resultfileOrigin, mode = 'a', index=False, sep=',')\n",
    "        print(\"to_csv {} test_data is done\".format(i))\n",
    "        i = i + 1\n",
    "    except StopIteration:\n",
    "        loop = False\n",
    "        print(\"Iteration is stopped\")\n",
    "\n"
   ]
  },
  {
   "cell_type": "code",
   "execution_count": null,
   "metadata": {},
   "outputs": [],
   "source": [
    "# 找到最大的敏感类型的预测概率值和对应的敏感类型英文名\n",
    "predict_result['PREDICTION_VALUE'] = predict_result[['QUALITY','ATTITUDE','TIME','SKILL''MONEY']].astype(float).idmax(axis=1)\n",
    "predict_result['RISK_TYPE'] = predict_result[['QUALITY','ATTITUDE','TIME','SKILL''MONEY']].astype(float).idxmax(axis = 1)\n",
    "# 取出前千分之五\n",
    "count = int(len(predict_result) * 0.005)\n",
    "c = predict_result.sort_values(by=\"prediction_value\", ascending = False).head(count)\n",
    "import time\n",
    "prediction_final = pd.DataFrame()\n",
    "prediction_final['FRAMENUM'] = prediction_desceding['FRAMENUM']\n",
    "prediction_final['RISK_TYPE'] = prediction_desceding['RISK_TYPE']\n",
    "prediction_final['PREDICTION_VALUE'] = prediction_desceding['PREDICTION_VALUE']\n",
    "prediction_final['INSERT_TIME'] = time.strftime(\"%Y-%m-%d\", time.localtime(time.time()))\n",
    "prediction_final = prediction_final.drop_duplicates(subset = ['FRAMENUM', 'RISK_TYPE'])\n",
    "\n",
    "print(prediction_final.head())\n",
    "\n",
    "prediction_final.to_csv(resultfile, index=False, header = 0, sep=\",\")"
   ]
  }
 ],
 "metadata": {
  "kernelspec": {
   "display_name": "Python 3",
   "language": "python",
   "name": "python3"
  },
  "language_info": {
   "codemirror_mode": {
    "name": "ipython",
    "version": 3
   },
   "file_extension": ".py",
   "mimetype": "text/x-python",
   "name": "python",
   "nbconvert_exporter": "python",
   "pygments_lexer": "ipython3",
   "version": "3.6.5"
  }
 },
 "nbformat": 4,
 "nbformat_minor": 2
}
