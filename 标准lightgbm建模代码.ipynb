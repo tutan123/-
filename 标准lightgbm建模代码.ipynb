{
 "cells": [
  {
   "cell_type": "markdown",
   "metadata": {},
   "source": [
    "## 一. 模型训练流程"
   ]
  },
  {
   "cell_type": "code",
   "execution_count": 39,
   "metadata": {},
   "outputs": [],
   "source": [
    "##1. 导入数据\n",
    "import pandas as pd\n",
    "import numpy as np\n",
    "from sklearn.metrics import roc_curve,  classification_report, auc , confusion_matrix, accuracy_score, f1_score, recall_score, precision_score,roc_auc_score\n",
    "from sklearn.model_selection import train_test_split, StratifiedKFold, KFold, GridSearchCV, cross_val_score\n",
    "import matplotlib.pyplot as plt\n",
    "import os, pickle\n",
    "import lightgbm as lgb\n",
    "from xgboost import plot_importance, plot_tree\n",
    "from tqdm import tqdm\n",
    "import time\n"
   ]
  },
  {
   "cell_type": "code",
   "execution_count": 10,
   "metadata": {},
   "outputs": [
    {
     "data": {
      "text/plain": [
       "4"
      ]
     },
     "execution_count": 10,
     "metadata": {},
     "output_type": "execute_result"
    }
   ],
   "source": [
    "# 查看CPU核数\n",
    "import multiprocessing\n",
    "multiprocessing.cpu_count()"
   ]
  },
  {
   "cell_type": "code",
   "execution_count": 11,
   "metadata": {},
   "outputs": [],
   "source": [
    "#设置禁止使用科学计数法\n",
    "np.set_printoptions(suppress=True)\n",
    "pd.options.display.float_format = '{: .9f}'.format\n",
    "# dataframe展示全部列\n",
    "import pandas as pd\n",
    "pd.set_option(\"display.max_columns\", 500)\n",
    "pd.set_option(\"display.max_rows\", 1000)"
   ]
  },
  {
   "cell_type": "code",
   "execution_count": 19,
   "metadata": {},
   "outputs": [],
   "source": [
    "from tqdm import tqdm\n",
    "def reader_pandas(file, chunkSize = 20000, patitions = 50):\n",
    "    reader = pd.read_csv(file, header = 0, index_col=0, delimiter=',', iterator = True)  ## delimiter='\\t'\n",
    "    chunks = []\n",
    "    with tqdm(range(patitions), 'Reading...') as t:\n",
    "        for _ in t:\n",
    "            try:\n",
    "                chunk = reader.get_chunk(chunkSize)\n",
    "                chunks.append(chunk)\n",
    "            except StopIteration:\n",
    "                break\n",
    "    return pd.concat(chunks, ignore_index=False)"
   ]
  },
  {
   "cell_type": "code",
   "execution_count": 20,
   "metadata": {},
   "outputs": [
    {
     "name": "stderr",
     "output_type": "stream",
     "text": [
      "Reading...:  70%|█████████████████████████████████████████████████                     | 35/50 [00:04<00:01,  8.41it/s]\n"
     ]
    }
   ],
   "source": [
    "# 读取数据\n",
    "filename = '../X_train_outlier.csv'\n",
    "data = reader_pandas(filename)"
   ]
  },
  {
   "cell_type": "code",
   "execution_count": 21,
   "metadata": {},
   "outputs": [
    {
     "name": "stdout",
     "output_type": "stream",
     "text": [
      "<class 'pandas.core.frame.DataFrame'>\n",
      "Int64Index: 707773 entries, 13599771 to 34973374\n",
      "Data columns (total 21 columns):\n",
      "sub_grade                           707773 non-null int64\n",
      "revol_util                          707773 non-null float64\n",
      "issue_d_year                        707773 non-null int64\n",
      "annual_inc                          707773 non-null float64\n",
      "tot_cur_bal                         707773 non-null float64\n",
      "earliest_cr_line_year               707773 non-null float64\n",
      "int_rate                            707773 non-null float64\n",
      "revol_bal                           707773 non-null float64\n",
      "tot_coll_amt                        707773 non-null float64\n",
      "total_acc                           707773 non-null float64\n",
      "term                                707773 non-null int64\n",
      "collections_12_mths_ex_med          707773 non-null float64\n",
      "loan_amnt                           707773 non-null float64\n",
      "verification_status_Not Verified    707773 non-null int64\n",
      "dti                                 707773 non-null float64\n",
      "pub_rec                             707773 non-null float64\n",
      "total_rev_hi_lim                    707773 non-null float64\n",
      "issue_d_month                       707773 non-null int64\n",
      "total_rec_prncp                     707773 non-null float64\n",
      "out_prncp                           707773 non-null float64\n",
      "acc_now_delinq                      707773 non-null int64\n",
      "dtypes: float64(15), int64(6)\n",
      "memory usage: 118.8 MB\n"
     ]
    },
    {
     "data": {
      "text/plain": [
       "((707773, 21), None)"
      ]
     },
     "execution_count": 21,
     "metadata": {},
     "output_type": "execute_result"
    }
   ],
   "source": [
    "# 查看数据形状和内存使用\n",
    "data.shape, data.info()"
   ]
  },
  {
   "cell_type": "code",
   "execution_count": 23,
   "metadata": {},
   "outputs": [
    {
     "data": {
      "text/html": [
       "<div>\n",
       "<style scoped>\n",
       "    .dataframe tbody tr th:only-of-type {\n",
       "        vertical-align: middle;\n",
       "    }\n",
       "\n",
       "    .dataframe tbody tr th {\n",
       "        vertical-align: top;\n",
       "    }\n",
       "\n",
       "    .dataframe thead th {\n",
       "        text-align: right;\n",
       "    }\n",
       "</style>\n",
       "<table border=\"1\" class=\"dataframe\">\n",
       "  <thead>\n",
       "    <tr style=\"text-align: right;\">\n",
       "      <th></th>\n",
       "      <th>sub_grade</th>\n",
       "      <th>revol_util</th>\n",
       "      <th>issue_d_year</th>\n",
       "      <th>annual_inc</th>\n",
       "      <th>tot_cur_bal</th>\n",
       "      <th>earliest_cr_line_year</th>\n",
       "      <th>int_rate</th>\n",
       "      <th>revol_bal</th>\n",
       "      <th>tot_coll_amt</th>\n",
       "      <th>total_acc</th>\n",
       "      <th>term</th>\n",
       "      <th>collections_12_mths_ex_med</th>\n",
       "      <th>loan_amnt</th>\n",
       "      <th>verification_status_Not Verified</th>\n",
       "      <th>dti</th>\n",
       "      <th>pub_rec</th>\n",
       "      <th>total_rev_hi_lim</th>\n",
       "      <th>issue_d_month</th>\n",
       "      <th>total_rec_prncp</th>\n",
       "      <th>out_prncp</th>\n",
       "      <th>acc_now_delinq</th>\n",
       "    </tr>\n",
       "    <tr>\n",
       "      <th>member_id</th>\n",
       "      <th></th>\n",
       "      <th></th>\n",
       "      <th></th>\n",
       "      <th></th>\n",
       "      <th></th>\n",
       "      <th></th>\n",
       "      <th></th>\n",
       "      <th></th>\n",
       "      <th></th>\n",
       "      <th></th>\n",
       "      <th></th>\n",
       "      <th></th>\n",
       "      <th></th>\n",
       "      <th></th>\n",
       "      <th></th>\n",
       "      <th></th>\n",
       "      <th></th>\n",
       "      <th></th>\n",
       "      <th></th>\n",
       "      <th></th>\n",
       "      <th></th>\n",
       "    </tr>\n",
       "  </thead>\n",
       "  <tbody>\n",
       "    <tr>\n",
       "      <th>13599771</th>\n",
       "      <td>17</td>\n",
       "      <td>60.000000000</td>\n",
       "      <td>2014</td>\n",
       "      <td>55000.000000000</td>\n",
       "      <td>144784.000000000</td>\n",
       "      <td>1985.000000000</td>\n",
       "      <td>18.250000000</td>\n",
       "      <td>10020.000000000</td>\n",
       "      <td>0.000000000</td>\n",
       "      <td>31.000000000</td>\n",
       "      <td>0</td>\n",
       "      <td>0.000000000</td>\n",
       "      <td>8875.000000000</td>\n",
       "      <td>0</td>\n",
       "      <td>23.650000000</td>\n",
       "      <td>1.000000000</td>\n",
       "      <td>16700.000000000</td>\n",
       "      <td>3</td>\n",
       "      <td>3124.160000000</td>\n",
       "      <td>0.000000000</td>\n",
       "      <td>0</td>\n",
       "    </tr>\n",
       "    <tr>\n",
       "      <th>1491956</th>\n",
       "      <td>4</td>\n",
       "      <td>88.000000000</td>\n",
       "      <td>2012</td>\n",
       "      <td>43000.000000000</td>\n",
       "      <td>139458.189336000</td>\n",
       "      <td>1992.000000000</td>\n",
       "      <td>8.900000000</td>\n",
       "      <td>13202.000000000</td>\n",
       "      <td>225.702610320</td>\n",
       "      <td>18.000000000</td>\n",
       "      <td>0</td>\n",
       "      <td>0.000000000</td>\n",
       "      <td>12500.000000000</td>\n",
       "      <td>0</td>\n",
       "      <td>10.580000000</td>\n",
       "      <td>0.000000000</td>\n",
       "      <td>32068.620045500</td>\n",
       "      <td>5</td>\n",
       "      <td>12500.000000000</td>\n",
       "      <td>0.000000000</td>\n",
       "      <td>0</td>\n",
       "    </tr>\n",
       "    <tr>\n",
       "      <th>64687987</th>\n",
       "      <td>21</td>\n",
       "      <td>52.000000000</td>\n",
       "      <td>2015</td>\n",
       "      <td>101300.000000000</td>\n",
       "      <td>106215.000000000</td>\n",
       "      <td>2001.000000000</td>\n",
       "      <td>18.550000000</td>\n",
       "      <td>21467.000000000</td>\n",
       "      <td>770.000000000</td>\n",
       "      <td>27.000000000</td>\n",
       "      <td>1</td>\n",
       "      <td>0.000000000</td>\n",
       "      <td>33600.000000000</td>\n",
       "      <td>0</td>\n",
       "      <td>20.000000000</td>\n",
       "      <td>0.000000000</td>\n",
       "      <td>41300.000000000</td>\n",
       "      <td>9</td>\n",
       "      <td>1047.760000000</td>\n",
       "      <td>32552.240000000</td>\n",
       "      <td>0</td>\n",
       "    </tr>\n",
       "    <tr>\n",
       "      <th>8446850</th>\n",
       "      <td>5</td>\n",
       "      <td>28.900000000</td>\n",
       "      <td>2013</td>\n",
       "      <td>47840.000000000</td>\n",
       "      <td>129416.000000000</td>\n",
       "      <td>1988.000000000</td>\n",
       "      <td>9.710000000</td>\n",
       "      <td>6585.000000000</td>\n",
       "      <td>102.000000000</td>\n",
       "      <td>14.000000000</td>\n",
       "      <td>1</td>\n",
       "      <td>0.000000000</td>\n",
       "      <td>17000.000000000</td>\n",
       "      <td>0</td>\n",
       "      <td>4.010000000</td>\n",
       "      <td>0.000000000</td>\n",
       "      <td>22800.000000000</td>\n",
       "      <td>8</td>\n",
       "      <td>17000.000000000</td>\n",
       "      <td>0.000000000</td>\n",
       "      <td>0</td>\n",
       "    </tr>\n",
       "    <tr>\n",
       "      <th>58471388</th>\n",
       "      <td>17</td>\n",
       "      <td>40.500000000</td>\n",
       "      <td>2015</td>\n",
       "      <td>30000.000000000</td>\n",
       "      <td>15589.000000000</td>\n",
       "      <td>1999.000000000</td>\n",
       "      <td>16.990000000</td>\n",
       "      <td>4167.000000000</td>\n",
       "      <td>0.000000000</td>\n",
       "      <td>21.000000000</td>\n",
       "      <td>1</td>\n",
       "      <td>0.000000000</td>\n",
       "      <td>14000.000000000</td>\n",
       "      <td>0</td>\n",
       "      <td>31.850000000</td>\n",
       "      <td>0.000000000</td>\n",
       "      <td>10300.000000000</td>\n",
       "      <td>7</td>\n",
       "      <td>769.760000000</td>\n",
       "      <td>13230.240000000</td>\n",
       "      <td>0</td>\n",
       "    </tr>\n",
       "  </tbody>\n",
       "</table>\n",
       "</div>"
      ],
      "text/plain": [
       "           sub_grade    revol_util  issue_d_year        annual_inc  \\\n",
       "member_id                                                            \n",
       "13599771          17  60.000000000          2014   55000.000000000   \n",
       "1491956            4  88.000000000          2012   43000.000000000   \n",
       "64687987          21  52.000000000          2015  101300.000000000   \n",
       "8446850            5  28.900000000          2013   47840.000000000   \n",
       "58471388          17  40.500000000          2015   30000.000000000   \n",
       "\n",
       "                tot_cur_bal  earliest_cr_line_year      int_rate  \\\n",
       "member_id                                                          \n",
       "13599771   144784.000000000         1985.000000000  18.250000000   \n",
       "1491956    139458.189336000         1992.000000000   8.900000000   \n",
       "64687987   106215.000000000         2001.000000000  18.550000000   \n",
       "8446850    129416.000000000         1988.000000000   9.710000000   \n",
       "58471388    15589.000000000         1999.000000000  16.990000000   \n",
       "\n",
       "                 revol_bal   tot_coll_amt     total_acc  term  \\\n",
       "member_id                                                       \n",
       "13599771   10020.000000000    0.000000000  31.000000000     0   \n",
       "1491956    13202.000000000  225.702610320  18.000000000     0   \n",
       "64687987   21467.000000000  770.000000000  27.000000000     1   \n",
       "8446850     6585.000000000  102.000000000  14.000000000     1   \n",
       "58471388    4167.000000000    0.000000000  21.000000000     1   \n",
       "\n",
       "           collections_12_mths_ex_med        loan_amnt  \\\n",
       "member_id                                                \n",
       "13599771                  0.000000000   8875.000000000   \n",
       "1491956                   0.000000000  12500.000000000   \n",
       "64687987                  0.000000000  33600.000000000   \n",
       "8446850                   0.000000000  17000.000000000   \n",
       "58471388                  0.000000000  14000.000000000   \n",
       "\n",
       "           verification_status_Not Verified           dti      pub_rec  \\\n",
       "member_id                                                                \n",
       "13599771                                  0  23.650000000  1.000000000   \n",
       "1491956                                   0  10.580000000  0.000000000   \n",
       "64687987                                  0  20.000000000  0.000000000   \n",
       "8446850                                   0   4.010000000  0.000000000   \n",
       "58471388                                  0  31.850000000  0.000000000   \n",
       "\n",
       "           total_rev_hi_lim  issue_d_month  total_rec_prncp        out_prncp  \\\n",
       "member_id                                                                      \n",
       "13599771    16700.000000000              3   3124.160000000      0.000000000   \n",
       "1491956     32068.620045500              5  12500.000000000      0.000000000   \n",
       "64687987    41300.000000000              9   1047.760000000  32552.240000000   \n",
       "8446850     22800.000000000              8  17000.000000000      0.000000000   \n",
       "58471388    10300.000000000              7    769.760000000  13230.240000000   \n",
       "\n",
       "           acc_now_delinq  \n",
       "member_id                  \n",
       "13599771                0  \n",
       "1491956                 0  \n",
       "64687987                0  \n",
       "8446850                 0  \n",
       "58471388                0  "
      ]
     },
     "execution_count": 23,
     "metadata": {},
     "output_type": "execute_result"
    }
   ],
   "source": [
    "data.head()"
   ]
  },
  {
   "cell_type": "code",
   "execution_count": 25,
   "metadata": {},
   "outputs": [],
   "source": [
    "data['acc_now_delinq'] = data['acc_now_delinq'].apply(lambda x: 1 if x>0 else 0)"
   ]
  },
  {
   "cell_type": "code",
   "execution_count": 26,
   "metadata": {},
   "outputs": [
    {
     "data": {
      "text/plain": [
       "0    704482\n",
       "1      3291\n",
       "Name: acc_now_delinq, dtype: int64"
      ]
     },
     "execution_count": 26,
     "metadata": {},
     "output_type": "execute_result"
    }
   ],
   "source": [
    "data['acc_now_delinq'].value_counts()"
   ]
  },
  {
   "cell_type": "code",
   "execution_count": 27,
   "metadata": {},
   "outputs": [],
   "source": [
    "dataY = data.pop('acc_now_delinq')"
   ]
  },
  {
   "cell_type": "code",
   "execution_count": 28,
   "metadata": {},
   "outputs": [],
   "source": [
    "dataX = data"
   ]
  },
  {
   "cell_type": "code",
   "execution_count": 29,
   "metadata": {},
   "outputs": [
    {
     "data": {
      "text/plain": [
       "sub_grade                           0.000000000\n",
       "revol_util                          0.000000000\n",
       "issue_d_year                        0.000000000\n",
       "annual_inc                          0.000000000\n",
       "tot_cur_bal                         0.000000000\n",
       "earliest_cr_line_year               0.000000000\n",
       "int_rate                            0.000000000\n",
       "revol_bal                           0.000000000\n",
       "tot_coll_amt                        0.000000000\n",
       "total_acc                           0.000000000\n",
       "term                                0.000000000\n",
       "collections_12_mths_ex_med          0.000000000\n",
       "loan_amnt                           0.000000000\n",
       "verification_status_Not Verified    0.000000000\n",
       "dti                                 0.000000000\n",
       "pub_rec                             0.000000000\n",
       "total_rev_hi_lim                    0.000000000\n",
       "issue_d_month                       0.000000000\n",
       "total_rec_prncp                     0.000000000\n",
       "out_prncp                           0.000000000\n",
       "dtype: float64"
      ]
     },
     "execution_count": 29,
     "metadata": {},
     "output_type": "execute_result"
    }
   ],
   "source": [
    "cnt = len(dataX)\n",
    "dataX.isnull().sum()/cnt"
   ]
  },
  {
   "cell_type": "code",
   "execution_count": 32,
   "metadata": {},
   "outputs": [],
   "source": [
    "# 定义函数: 根据饱和度来过滤因子\n",
    "def filter_coverage( df, na_rate):\n",
    "    cnt = len(df)\n",
    "    df1 = df.isnull().sum()/cnt\n",
    "    df2 = df1 < na_rate\n",
    "    keep_colname = df2[df2==True].index\n",
    "    return df[keep_colname]"
   ]
  },
  {
   "cell_type": "code",
   "execution_count": 33,
   "metadata": {},
   "outputs": [],
   "source": [
    "# 根据有值率/饱和度 剔除小于一定饱和度的列\n",
    "dataAfterFilter = filter_coverage(dataX, 0.2)"
   ]
  },
  {
   "cell_type": "code",
   "execution_count": 34,
   "metadata": {},
   "outputs": [
    {
     "data": {
      "text/plain": [
       "((707773, 20), (707773, 20))"
      ]
     },
     "execution_count": 34,
     "metadata": {},
     "output_type": "execute_result"
    }
   ],
   "source": [
    "dataX.shape, dataAfterFilter.shape"
   ]
  },
  {
   "cell_type": "code",
   "execution_count": 35,
   "metadata": {},
   "outputs": [],
   "source": [
    "# 拼接x和y\n",
    "Combine_Data = pd.concat([dataX, dataY], axis = 1)"
   ]
  },
  {
   "cell_type": "markdown",
   "metadata": {},
   "source": [
    "## 2. 数据处理流程"
   ]
  },
  {
   "cell_type": "code",
   "execution_count": 40,
   "metadata": {},
   "outputs": [],
   "source": [
    "# 复制一份数据，用来建模\n",
    "readData = Combine_Data.copy()"
   ]
  },
  {
   "cell_type": "code",
   "execution_count": null,
   "metadata": {},
   "outputs": [],
   "source": [
    "# # 1. 将时间特征按照距今天多久处理\n",
    "# import time\n",
    "# import datetime\n",
    "# datetiemCols = ['first_active_date','second_active_date'] \n",
    "# for name in datetiemCols:\n",
    "#     print(name)\n",
    "#     readData[name] = (pd.datetime.now().date() - pd.to_datetime(readData[name]).dt.date ).dt.days"
   ]
  },
  {
   "cell_type": "code",
   "execution_count": 42,
   "metadata": {},
   "outputs": [
    {
     "name": "stdout",
     "output_type": "stream",
     "text": [
      "[]\n"
     ]
    }
   ],
   "source": [
    "# 2. 获得object特征的列名\n",
    "cate_cols = readData.select_dtypes(include='object').columns\n",
    "print(list(cate_cols))\n",
    "\n",
    "# 将object类型转成category类型\n",
    "for c in cate_cols:\n",
    "    readData[c] = readData[c].astype('category')"
   ]
  },
  {
   "cell_type": "code",
   "execution_count": 46,
   "metadata": {},
   "outputs": [
    {
     "data": {
      "text/html": [
       "<div>\n",
       "<style scoped>\n",
       "    .dataframe tbody tr th:only-of-type {\n",
       "        vertical-align: middle;\n",
       "    }\n",
       "\n",
       "    .dataframe tbody tr th {\n",
       "        vertical-align: top;\n",
       "    }\n",
       "\n",
       "    .dataframe thead th {\n",
       "        text-align: right;\n",
       "    }\n",
       "</style>\n",
       "<table border=\"1\" class=\"dataframe\">\n",
       "  <thead>\n",
       "    <tr style=\"text-align: right;\">\n",
       "      <th></th>\n",
       "      <th>sub_grade</th>\n",
       "      <th>revol_util</th>\n",
       "      <th>issue_d_year</th>\n",
       "      <th>annual_inc</th>\n",
       "      <th>tot_cur_bal</th>\n",
       "      <th>earliest_cr_line_year</th>\n",
       "      <th>int_rate</th>\n",
       "      <th>revol_bal</th>\n",
       "      <th>tot_coll_amt</th>\n",
       "      <th>total_acc</th>\n",
       "      <th>term</th>\n",
       "      <th>collections_12_mths_ex_med</th>\n",
       "      <th>loan_amnt</th>\n",
       "      <th>verification_status_Not Verified</th>\n",
       "      <th>dti</th>\n",
       "      <th>pub_rec</th>\n",
       "      <th>total_rev_hi_lim</th>\n",
       "      <th>issue_d_month</th>\n",
       "      <th>total_rec_prncp</th>\n",
       "      <th>out_prncp</th>\n",
       "      <th>acc_now_delinq</th>\n",
       "    </tr>\n",
       "    <tr>\n",
       "      <th>member_id</th>\n",
       "      <th></th>\n",
       "      <th></th>\n",
       "      <th></th>\n",
       "      <th></th>\n",
       "      <th></th>\n",
       "      <th></th>\n",
       "      <th></th>\n",
       "      <th></th>\n",
       "      <th></th>\n",
       "      <th></th>\n",
       "      <th></th>\n",
       "      <th></th>\n",
       "      <th></th>\n",
       "      <th></th>\n",
       "      <th></th>\n",
       "      <th></th>\n",
       "      <th></th>\n",
       "      <th></th>\n",
       "      <th></th>\n",
       "      <th></th>\n",
       "      <th></th>\n",
       "    </tr>\n",
       "  </thead>\n",
       "  <tbody>\n",
       "    <tr>\n",
       "      <th>13599771</th>\n",
       "      <td>17</td>\n",
       "      <td>60.000000000</td>\n",
       "      <td>2014</td>\n",
       "      <td>55000.000000000</td>\n",
       "      <td>144784.000000000</td>\n",
       "      <td>1985.000000000</td>\n",
       "      <td>18.250000000</td>\n",
       "      <td>10020.000000000</td>\n",
       "      <td>0.000000000</td>\n",
       "      <td>31.000000000</td>\n",
       "      <td>0</td>\n",
       "      <td>0.000000000</td>\n",
       "      <td>8875.000000000</td>\n",
       "      <td>0</td>\n",
       "      <td>23.650000000</td>\n",
       "      <td>1.000000000</td>\n",
       "      <td>16700.000000000</td>\n",
       "      <td>3</td>\n",
       "      <td>3124.160000000</td>\n",
       "      <td>0.000000000</td>\n",
       "      <td>0</td>\n",
       "    </tr>\n",
       "    <tr>\n",
       "      <th>1491956</th>\n",
       "      <td>4</td>\n",
       "      <td>88.000000000</td>\n",
       "      <td>2012</td>\n",
       "      <td>43000.000000000</td>\n",
       "      <td>139458.189336000</td>\n",
       "      <td>1992.000000000</td>\n",
       "      <td>8.900000000</td>\n",
       "      <td>13202.000000000</td>\n",
       "      <td>225.702610320</td>\n",
       "      <td>18.000000000</td>\n",
       "      <td>0</td>\n",
       "      <td>0.000000000</td>\n",
       "      <td>12500.000000000</td>\n",
       "      <td>0</td>\n",
       "      <td>10.580000000</td>\n",
       "      <td>0.000000000</td>\n",
       "      <td>32068.620045500</td>\n",
       "      <td>5</td>\n",
       "      <td>12500.000000000</td>\n",
       "      <td>0.000000000</td>\n",
       "      <td>0</td>\n",
       "    </tr>\n",
       "    <tr>\n",
       "      <th>64687987</th>\n",
       "      <td>21</td>\n",
       "      <td>52.000000000</td>\n",
       "      <td>2015</td>\n",
       "      <td>101300.000000000</td>\n",
       "      <td>106215.000000000</td>\n",
       "      <td>2001.000000000</td>\n",
       "      <td>18.550000000</td>\n",
       "      <td>21467.000000000</td>\n",
       "      <td>770.000000000</td>\n",
       "      <td>27.000000000</td>\n",
       "      <td>1</td>\n",
       "      <td>0.000000000</td>\n",
       "      <td>33600.000000000</td>\n",
       "      <td>0</td>\n",
       "      <td>20.000000000</td>\n",
       "      <td>0.000000000</td>\n",
       "      <td>41300.000000000</td>\n",
       "      <td>9</td>\n",
       "      <td>1047.760000000</td>\n",
       "      <td>32552.240000000</td>\n",
       "      <td>0</td>\n",
       "    </tr>\n",
       "    <tr>\n",
       "      <th>8446850</th>\n",
       "      <td>5</td>\n",
       "      <td>28.900000000</td>\n",
       "      <td>2013</td>\n",
       "      <td>47840.000000000</td>\n",
       "      <td>129416.000000000</td>\n",
       "      <td>1988.000000000</td>\n",
       "      <td>9.710000000</td>\n",
       "      <td>6585.000000000</td>\n",
       "      <td>102.000000000</td>\n",
       "      <td>14.000000000</td>\n",
       "      <td>1</td>\n",
       "      <td>0.000000000</td>\n",
       "      <td>17000.000000000</td>\n",
       "      <td>0</td>\n",
       "      <td>4.010000000</td>\n",
       "      <td>0.000000000</td>\n",
       "      <td>22800.000000000</td>\n",
       "      <td>8</td>\n",
       "      <td>17000.000000000</td>\n",
       "      <td>0.000000000</td>\n",
       "      <td>0</td>\n",
       "    </tr>\n",
       "    <tr>\n",
       "      <th>58471388</th>\n",
       "      <td>17</td>\n",
       "      <td>40.500000000</td>\n",
       "      <td>2015</td>\n",
       "      <td>30000.000000000</td>\n",
       "      <td>15589.000000000</td>\n",
       "      <td>1999.000000000</td>\n",
       "      <td>16.990000000</td>\n",
       "      <td>4167.000000000</td>\n",
       "      <td>0.000000000</td>\n",
       "      <td>21.000000000</td>\n",
       "      <td>1</td>\n",
       "      <td>0.000000000</td>\n",
       "      <td>14000.000000000</td>\n",
       "      <td>0</td>\n",
       "      <td>31.850000000</td>\n",
       "      <td>0.000000000</td>\n",
       "      <td>10300.000000000</td>\n",
       "      <td>7</td>\n",
       "      <td>769.760000000</td>\n",
       "      <td>13230.240000000</td>\n",
       "      <td>0</td>\n",
       "    </tr>\n",
       "  </tbody>\n",
       "</table>\n",
       "</div>"
      ],
      "text/plain": [
       "           sub_grade    revol_util  issue_d_year        annual_inc  \\\n",
       "member_id                                                            \n",
       "13599771          17  60.000000000          2014   55000.000000000   \n",
       "1491956            4  88.000000000          2012   43000.000000000   \n",
       "64687987          21  52.000000000          2015  101300.000000000   \n",
       "8446850            5  28.900000000          2013   47840.000000000   \n",
       "58471388          17  40.500000000          2015   30000.000000000   \n",
       "\n",
       "                tot_cur_bal  earliest_cr_line_year      int_rate  \\\n",
       "member_id                                                          \n",
       "13599771   144784.000000000         1985.000000000  18.250000000   \n",
       "1491956    139458.189336000         1992.000000000   8.900000000   \n",
       "64687987   106215.000000000         2001.000000000  18.550000000   \n",
       "8446850    129416.000000000         1988.000000000   9.710000000   \n",
       "58471388    15589.000000000         1999.000000000  16.990000000   \n",
       "\n",
       "                 revol_bal   tot_coll_amt     total_acc  term  \\\n",
       "member_id                                                       \n",
       "13599771   10020.000000000    0.000000000  31.000000000     0   \n",
       "1491956    13202.000000000  225.702610320  18.000000000     0   \n",
       "64687987   21467.000000000  770.000000000  27.000000000     1   \n",
       "8446850     6585.000000000  102.000000000  14.000000000     1   \n",
       "58471388    4167.000000000    0.000000000  21.000000000     1   \n",
       "\n",
       "           collections_12_mths_ex_med        loan_amnt  \\\n",
       "member_id                                                \n",
       "13599771                  0.000000000   8875.000000000   \n",
       "1491956                   0.000000000  12500.000000000   \n",
       "64687987                  0.000000000  33600.000000000   \n",
       "8446850                   0.000000000  17000.000000000   \n",
       "58471388                  0.000000000  14000.000000000   \n",
       "\n",
       "           verification_status_Not Verified           dti      pub_rec  \\\n",
       "member_id                                                                \n",
       "13599771                                  0  23.650000000  1.000000000   \n",
       "1491956                                   0  10.580000000  0.000000000   \n",
       "64687987                                  0  20.000000000  0.000000000   \n",
       "8446850                                   0   4.010000000  0.000000000   \n",
       "58471388                                  0  31.850000000  0.000000000   \n",
       "\n",
       "           total_rev_hi_lim  issue_d_month  total_rec_prncp        out_prncp  \\\n",
       "member_id                                                                      \n",
       "13599771    16700.000000000              3   3124.160000000      0.000000000   \n",
       "1491956     32068.620045500              5  12500.000000000      0.000000000   \n",
       "64687987    41300.000000000              9   1047.760000000  32552.240000000   \n",
       "8446850     22800.000000000              8  17000.000000000      0.000000000   \n",
       "58471388    10300.000000000              7    769.760000000  13230.240000000   \n",
       "\n",
       "           acc_now_delinq  \n",
       "member_id                  \n",
       "13599771                0  \n",
       "1491956                 0  \n",
       "64687987                0  \n",
       "8446850                 0  \n",
       "58471388                0  "
      ]
     },
     "execution_count": 46,
     "metadata": {},
     "output_type": "execute_result"
    }
   ],
   "source": [
    "readData.head()"
   ]
  },
  {
   "cell_type": "code",
   "execution_count": 48,
   "metadata": {},
   "outputs": [],
   "source": [
    "# 删除掉一些不规范的不入模的因子\n",
    "readData = readData.drop(['collections_12_mths_ex_med'], axis = 1)  # 引号里面写入列名"
   ]
  },
  {
   "cell_type": "markdown",
   "metadata": {},
   "source": [
    "## 3.获得最终进入模型的数据, 开始训练，并验证结果"
   ]
  },
  {
   "cell_type": "code",
   "execution_count": 49,
   "metadata": {},
   "outputs": [],
   "source": [
    "data_final_X = readData.iloc[:, :-1]\n",
    "data_final_Y = readData.iloc[:, -1]"
   ]
  },
  {
   "cell_type": "code",
   "execution_count": 50,
   "metadata": {},
   "outputs": [],
   "source": [
    "X_train, X_test, y_train, y_test = train_test_split(data_final_X, data_final_Y, test_size = 0.3,)"
   ]
  },
  {
   "cell_type": "code",
   "execution_count": 53,
   "metadata": {},
   "outputs": [
    {
     "data": {
      "text/plain": [
       "(0    493169\n",
       " 1      2272\n",
       " Name: acc_now_delinq, dtype: int64, 0    211313\n",
       " 1      1019\n",
       " Name: acc_now_delinq, dtype: int64)"
      ]
     },
     "execution_count": 53,
     "metadata": {},
     "output_type": "execute_result"
    }
   ],
   "source": [
    "y_train.value_counts(),y_test.value_counts()"
   ]
  },
  {
   "cell_type": "code",
   "execution_count": 54,
   "metadata": {},
   "outputs": [
    {
     "name": "stderr",
     "output_type": "stream",
     "text": [
      "d:\\ProgramData\\Anaconda3\\lib\\site-packages\\lightgbm\\basic.py:1295: UserWarning: categorical_feature in Dataset is overridden.\n",
      "New categorical_feature is []\n",
      "  'New categorical_feature is {}'.format(sorted(list(categorical_feature))))\n"
     ]
    },
    {
     "data": {
      "text/plain": [
       "LGBMClassifier(boosting_type='gbdt', class_weight=None, colsample_bytree=1.0,\n",
       "        importance_type='split', learning_rate=0.1, max_depth=-1,\n",
       "        min_child_samples=20, min_child_weight=0.001, min_split_gain=0.0,\n",
       "        n_estimators=100, n_jobs=-1, num_leaves=31, objective=None,\n",
       "        random_state=None, reg_alpha=0.0, reg_lambda=0.0, silent=True,\n",
       "        subsample=1.0, subsample_for_bin=200000, subsample_freq=0,\n",
       "        verbose_eval=True)"
      ]
     },
     "execution_count": 54,
     "metadata": {},
     "output_type": "execute_result"
    }
   ],
   "source": [
    "gbm1 = lgb.LGBMClassifier(verbose_eval = True)\n",
    "gbm1.fit(X_train, y_train, eval_metric='binary_error', categorical_feature = cate_cols,)"
   ]
  },
  {
   "cell_type": "markdown",
   "metadata": {},
   "source": [
    "#### 根据百分之一预测为1"
   ]
  },
  {
   "cell_type": "code",
   "execution_count": null,
   "metadata": {},
   "outputs": [],
   "source": [
    "data_train = readData[readData['batch_no'].isin(['201907','201908'，'201909'，'201910'，'201911'])]\n",
    "data_test = readData[readData['batch_no'].isin(['201912'])]\n",
    "X_train = data_train.iloc[:, :-1]\n",
    "y_train = data_train.iloc[:, -1]\n",
    "X_test = data_test.iloc[:, :-1]\n",
    "y_test = data_test.iloc[:,-1]\n",
    "fromo sklearn.externals import joblib\n",
    "modelpath = 'lgb6.pkl'\n",
    "gbm1 = joblib.load(modelpath)"
   ]
  },
  {
   "cell_type": "code",
   "execution_count": null,
   "metadata": {},
   "outputs": [],
   "source": [
    "y_predict = gbm1.predict_proba(X_test)\n",
    "# 取概率前百分之一的作为1\n",
    "a = np.percentile(y_predict[:,1],99)\n",
    "print(a)\n",
    "y_pred = [1 if value > a else 0 for value in y_predict[:, 1]]\n",
    "y_predictions = y_pred\n",
    "from collections import Counter\n",
    "print('y_test', Counter(y_test), 'y_predictions', Counter(y_predictions))\n",
    "\n",
    "#查看混淆矩阵召回率等评估指标\n",
    "from sklearn import metrics\n",
    "cm = metrics.confusion_matrix(y_test, y_predictions, labels=[0,1])\n",
    "acc = metrics.scorer.accuracy_score(y_test, y_predictions)\n",
    "recall1 = metrics.scorer.recall_score(y_test, y_predictions, pos_label = 1)\n",
    "precision1 = metrics.scorer.precision_score(y_test, y_predictions, pos_label = 1)\n",
    "recall0 = metrics.scorer.recall_score(y_test, y_predictions, pos_label = 0)\n",
    "precision0 = metrics.scorer.precision_score(y_test, y_predictions, pos_label = 0)\n",
    "\n",
    "print(\"cm\",cm)\n",
    "print(\"acc\",acc)\n",
    "print(\"recall\",recall1)\n",
    "print(\"precision1\",precision1)\n",
    "print(\"recal0\",recall0)\n",
    "print(\"precision0\",precision0)\n",
    "print(\"auc\", metrics.roc_auc_score(y_test, y_pred))"
   ]
  },
  {
   "cell_type": "code",
   "execution_count": 1,
   "metadata": {},
   "outputs": [
    {
     "ename": "NameError",
     "evalue": "name 'gbm1' is not defined",
     "output_type": "error",
     "traceback": [
      "\u001b[1;31m---------------------------------------------------------------------------\u001b[0m",
      "\u001b[1;31mNameError\u001b[0m                                 Traceback (most recent call last)",
      "\u001b[1;32m<ipython-input-1-3f2b4da8e46f>\u001b[0m in \u001b[0;36m<module>\u001b[1;34m()\u001b[0m\n\u001b[0;32m     10\u001b[0m \u001b[1;32mfrom\u001b[0m \u001b[0msklearn\u001b[0m \u001b[1;32mimport\u001b[0m \u001b[0mmetrics\u001b[0m\u001b[1;33m\u001b[0m\u001b[0m\n\u001b[0;32m     11\u001b[0m \u001b[1;31m# 预测一下效果\u001b[0m\u001b[1;33m\u001b[0m\u001b[1;33m\u001b[0m\u001b[0m\n\u001b[1;32m---> 12\u001b[1;33m \u001b[0my_predict\u001b[0m \u001b[1;33m=\u001b[0m \u001b[0mgbm1\u001b[0m\u001b[1;33m.\u001b[0m\u001b[0mpredict_proba\u001b[0m\u001b[1;33m(\u001b[0m\u001b[0mX_test\u001b[0m\u001b[1;33m)\u001b[0m\u001b[1;33m\u001b[0m\u001b[0m\n\u001b[0m\u001b[0;32m     13\u001b[0m \u001b[1;31m# for循环，看不同的分位点\u001b[0m\u001b[1;33m\u001b[0m\u001b[1;33m\u001b[0m\u001b[0m\n\u001b[0;32m     14\u001b[0m \u001b[0mresult_all\u001b[0m \u001b[1;33m=\u001b[0m \u001b[1;33m[\u001b[0m\u001b[1;33m]\u001b[0m\u001b[1;33m\u001b[0m\u001b[0m\n",
      "\u001b[1;31mNameError\u001b[0m: name 'gbm1' is not defined"
     ]
    }
   ],
   "source": [
    "# 将全部预测按概率分成一百等分输出结果\n",
    "\n",
    "# mean_prediction 预测均值\n",
    "# result_all['recall'] 识别率\n",
    "# result_all['precicion1'] 实际投诉率\n",
    "# result_all['y_count'] 投诉量\n",
    "# len(int(y_test/100)) 样本量\n",
    "\n",
    "# 带for循环的模型效果评估\n",
    "from sklearn import metrics\n",
    "# 预测一下效果\n",
    "y_predict = gbm1.predict_proba(X_test)\n",
    "# for循环，看不同的分位点\n",
    "result_all = []\n",
    "prediction_tmp = sorted(y_predict[:, 1], reverse=True) \n",
    "i = 0\n",
    "from collections import Counter\n",
    "for m in range(100):\n",
    "    b = np.percentile(y_predict[:,1], 99-m)\n",
    "    y_predictions = [1 if value > b else 0 for value in y_predict[:,1]]\n",
    "    # 精确率 实际投诉率\n",
    "    # 召回率 累积识别率\n",
    "    #查看混淆矩阵\n",
    "    from sklearn import metrics\n",
    "    cm = metrics.confusion_matrix(y_test, y_predictions, labels = [0,1])\n",
    "    recall = metrics.scorer.recall_score(y_test, y_predictions, pos_label = 1)\n",
    "    precision1 = metrics.scorer.precision_score(y_test, y_predictions, pos_label = 1)\n",
    "    print(recall1)\n",
    "    j = int(i+len(prediction_tmp)/100)\n",
    "    tmp = {\n",
    "        'mean_prediction': np.mean(prediction_tmp[i:j]),\n",
    "        'cm' : str(cm),\n",
    "        'precision1' : precision1,\n",
    "        'recall1' : recall1\n",
    "    }\n",
    "    result_all.append(tmp)\n",
    "    print(tmp)\n",
    "    "
   ]
  },
  {
   "cell_type": "code",
   "execution_count": null,
   "metadata": {},
   "outputs": [],
   "source": []
  },
  {
   "cell_type": "markdown",
   "metadata": {},
   "source": [
    "#### 按固定概率值预测"
   ]
  },
  {
   "cell_type": "code",
   "execution_count": 60,
   "metadata": {},
   "outputs": [
    {
     "name": "stdout",
     "output_type": "stream",
     "text": [
      "acc: 0.9938209973061055\n",
      "auc: 0.5032132034398674\n",
      "f1: 0.9938209973061055\n"
     ]
    }
   ],
   "source": [
    "# 评估预测结果\n",
    "from sklearn import metrics\n",
    "# y_pred = gbm1.predict(X_test)\n",
    "# y_predictions = [round(value) for value in y_pred]\n",
    "y_predict = gbm1.predict_proba(X_test)\n",
    "y_pred = [1 if value > 0.5 else 0 for value in y_predict[:,1]]\n",
    "y_predictions = y_pred\n",
    "pred_accuracy = accuracy_score(y_test, y_predictions)\n",
    "print('acc:', metrics.accuracy_score(y_test, y_pred))\n",
    "print('auc:', metrics.roc_auc_score(y_test, y_pred))\n",
    "print('f1:',metrics.f1_score(y_test, y_predictions, average='micro'))"
   ]
  },
  {
   "cell_type": "code",
   "execution_count": 58,
   "metadata": {},
   "outputs": [
    {
     "data": {
      "text/plain": [
       "(0    211313\n",
       " 1      1019\n",
       " Name: acc_now_delinq, dtype: int64, 0    212023\n",
       " 1       309\n",
       " dtype: int64)"
      ]
     },
     "execution_count": 58,
     "metadata": {},
     "output_type": "execute_result"
    }
   ],
   "source": [
    "pd.Series(y_test).value_counts(),pd.Series(y_predictions).value_counts()"
   ]
  },
  {
   "cell_type": "code",
   "execution_count": 62,
   "metadata": {},
   "outputs": [
    {
     "data": {
      "image/png": "[encoded data removed]",
      "text/plain": [
       "<Figure size 1080x1440 with 1 Axes>"
      ]
     },
     "metadata": {},
     "output_type": "display_data"
    }
   ],
   "source": [
    "fig, ax = plt.subplots(figsize = (15, 20))\n",
    "lgb.plot_importance(gbm1, max_num_features=90, ax = ax)\n",
    "plt.title('Feature Importance')\n",
    "plt.show()"
   ]
  },
  {
   "cell_type": "code",
   "execution_count": 63,
   "metadata": {},
   "outputs": [
    {
     "name": "stdout",
     "output_type": "stream",
     "text": [
      "cm [[211012    301]\n",
      " [  1011      8]]\n",
      "acc 0.9938209973061055\n",
      "recall 0.007850834151128557\n",
      "precision1 0.025889967637540454\n",
      "recal0 0.9985755727286064\n",
      "precision0 0.9952316493965278\n"
     ]
    }
   ],
   "source": [
    "# 查看混淆矩阵 召回率 精确率\n",
    "from sklearn import metrics\n",
    "cm = metrics.confusion_matrix(y_test, y_predictions, labels=[0,1])\n",
    "acc = metrics.scorer.accuracy_score(y_test, y_predictions)\n",
    "recall1 = metrics.scorer.recall_score(y_test, y_predictions, pos_label = 1)\n",
    "precision1 = metrics.scorer.precision_score(y_test, y_predictions, pos_label = 1)\n",
    "recall0 = metrics.scorer.recall_score(y_test, y_predictions, pos_label = 0)\n",
    "precision0 = metrics.scorer.precision_score(y_test, y_predictions, pos_label = 0)\n",
    "\n",
    "print(\"cm\",cm)\n",
    "print(\"acc\",acc)\n",
    "print(\"recall\",recall1)\n",
    "print(\"precision1\",precision1)\n",
    "print(\"recal0\",recall0)\n",
    "print(\"precision0\",precision0)"
   ]
  },
  {
   "cell_type": "code",
   "execution_count": 64,
   "metadata": {},
   "outputs": [],
   "source": [
    "# https://blog.csdn.net/u011630575/article/details/80250177  混淆矩阵, recall precision auc roc 的解释"
   ]
  },
  {
   "cell_type": "code",
   "execution_count": 65,
   "metadata": {},
   "outputs": [],
   "source": [
    "# 将使用到的因子名称保存到txt文件中\n",
    "mylist = dataX.columns\n",
    "with open('columnNames.txt', 'w') as f:\n",
    "    f.write(','.join(\"'\" + item + \"'\" for item in mylist))"
   ]
  },
  {
   "cell_type": "code",
   "execution_count": 66,
   "metadata": {},
   "outputs": [
    {
     "data": {
      "text/plain": [
       "['lgb6.pkl']"
      ]
     },
     "execution_count": 66,
     "metadata": {},
     "output_type": "execute_result"
    }
   ],
   "source": [
    "## 4.将不同的模型保存成不同的PKL文件\n",
    "from sklearn.externals import joblib\n",
    "joblib.dump(gbm1, 'lgb6.pkl')"
   ]
  },
  {
   "cell_type": "markdown",
   "metadata": {},
   "source": [
    "## 附1.单因子分析"
   ]
  },
  {
   "cell_type": "code",
   "execution_count": 67,
   "metadata": {},
   "outputs": [
    {
     "data": {
      "text/html": [
       "<div>\n",
       "<style scoped>\n",
       "    .dataframe tbody tr th:only-of-type {\n",
       "        vertical-align: middle;\n",
       "    }\n",
       "\n",
       "    .dataframe tbody tr th {\n",
       "        vertical-align: top;\n",
       "    }\n",
       "\n",
       "    .dataframe thead th {\n",
       "        text-align: right;\n",
       "    }\n",
       "</style>\n",
       "<table border=\"1\" class=\"dataframe\">\n",
       "  <thead>\n",
       "    <tr style=\"text-align: right;\">\n",
       "      <th></th>\n",
       "      <th>sub_grade</th>\n",
       "      <th>revol_util</th>\n",
       "      <th>issue_d_year</th>\n",
       "      <th>annual_inc</th>\n",
       "      <th>tot_cur_bal</th>\n",
       "      <th>earliest_cr_line_year</th>\n",
       "      <th>int_rate</th>\n",
       "      <th>revol_bal</th>\n",
       "      <th>tot_coll_amt</th>\n",
       "      <th>total_acc</th>\n",
       "      <th>term</th>\n",
       "      <th>loan_amnt</th>\n",
       "      <th>verification_status_Not Verified</th>\n",
       "      <th>dti</th>\n",
       "      <th>pub_rec</th>\n",
       "      <th>total_rev_hi_lim</th>\n",
       "      <th>issue_d_month</th>\n",
       "      <th>total_rec_prncp</th>\n",
       "      <th>out_prncp</th>\n",
       "      <th>acc_now_delinq</th>\n",
       "    </tr>\n",
       "    <tr>\n",
       "      <th>member_id</th>\n",
       "      <th></th>\n",
       "      <th></th>\n",
       "      <th></th>\n",
       "      <th></th>\n",
       "      <th></th>\n",
       "      <th></th>\n",
       "      <th></th>\n",
       "      <th></th>\n",
       "      <th></th>\n",
       "      <th></th>\n",
       "      <th></th>\n",
       "      <th></th>\n",
       "      <th></th>\n",
       "      <th></th>\n",
       "      <th></th>\n",
       "      <th></th>\n",
       "      <th></th>\n",
       "      <th></th>\n",
       "      <th></th>\n",
       "      <th></th>\n",
       "    </tr>\n",
       "  </thead>\n",
       "  <tbody>\n",
       "    <tr>\n",
       "      <th>13599771</th>\n",
       "      <td>17</td>\n",
       "      <td>60.000000000</td>\n",
       "      <td>2014</td>\n",
       "      <td>55000.000000000</td>\n",
       "      <td>144784.000000000</td>\n",
       "      <td>1985.000000000</td>\n",
       "      <td>18.250000000</td>\n",
       "      <td>10020.000000000</td>\n",
       "      <td>0.000000000</td>\n",
       "      <td>31.000000000</td>\n",
       "      <td>0</td>\n",
       "      <td>8875.000000000</td>\n",
       "      <td>0</td>\n",
       "      <td>23.650000000</td>\n",
       "      <td>1.000000000</td>\n",
       "      <td>16700.000000000</td>\n",
       "      <td>3</td>\n",
       "      <td>3124.160000000</td>\n",
       "      <td>0.000000000</td>\n",
       "      <td>0</td>\n",
       "    </tr>\n",
       "    <tr>\n",
       "      <th>1491956</th>\n",
       "      <td>4</td>\n",
       "      <td>88.000000000</td>\n",
       "      <td>2012</td>\n",
       "      <td>43000.000000000</td>\n",
       "      <td>139458.189336000</td>\n",
       "      <td>1992.000000000</td>\n",
       "      <td>8.900000000</td>\n",
       "      <td>13202.000000000</td>\n",
       "      <td>225.702610320</td>\n",
       "      <td>18.000000000</td>\n",
       "      <td>0</td>\n",
       "      <td>12500.000000000</td>\n",
       "      <td>0</td>\n",
       "      <td>10.580000000</td>\n",
       "      <td>0.000000000</td>\n",
       "      <td>32068.620045500</td>\n",
       "      <td>5</td>\n",
       "      <td>12500.000000000</td>\n",
       "      <td>0.000000000</td>\n",
       "      <td>0</td>\n",
       "    </tr>\n",
       "    <tr>\n",
       "      <th>64687987</th>\n",
       "      <td>21</td>\n",
       "      <td>52.000000000</td>\n",
       "      <td>2015</td>\n",
       "      <td>101300.000000000</td>\n",
       "      <td>106215.000000000</td>\n",
       "      <td>2001.000000000</td>\n",
       "      <td>18.550000000</td>\n",
       "      <td>21467.000000000</td>\n",
       "      <td>770.000000000</td>\n",
       "      <td>27.000000000</td>\n",
       "      <td>1</td>\n",
       "      <td>33600.000000000</td>\n",
       "      <td>0</td>\n",
       "      <td>20.000000000</td>\n",
       "      <td>0.000000000</td>\n",
       "      <td>41300.000000000</td>\n",
       "      <td>9</td>\n",
       "      <td>1047.760000000</td>\n",
       "      <td>32552.240000000</td>\n",
       "      <td>0</td>\n",
       "    </tr>\n",
       "    <tr>\n",
       "      <th>8446850</th>\n",
       "      <td>5</td>\n",
       "      <td>28.900000000</td>\n",
       "      <td>2013</td>\n",
       "      <td>47840.000000000</td>\n",
       "      <td>129416.000000000</td>\n",
       "      <td>1988.000000000</td>\n",
       "      <td>9.710000000</td>\n",
       "      <td>6585.000000000</td>\n",
       "      <td>102.000000000</td>\n",
       "      <td>14.000000000</td>\n",
       "      <td>1</td>\n",
       "      <td>17000.000000000</td>\n",
       "      <td>0</td>\n",
       "      <td>4.010000000</td>\n",
       "      <td>0.000000000</td>\n",
       "      <td>22800.000000000</td>\n",
       "      <td>8</td>\n",
       "      <td>17000.000000000</td>\n",
       "      <td>0.000000000</td>\n",
       "      <td>0</td>\n",
       "    </tr>\n",
       "    <tr>\n",
       "      <th>58471388</th>\n",
       "      <td>17</td>\n",
       "      <td>40.500000000</td>\n",
       "      <td>2015</td>\n",
       "      <td>30000.000000000</td>\n",
       "      <td>15589.000000000</td>\n",
       "      <td>1999.000000000</td>\n",
       "      <td>16.990000000</td>\n",
       "      <td>4167.000000000</td>\n",
       "      <td>0.000000000</td>\n",
       "      <td>21.000000000</td>\n",
       "      <td>1</td>\n",
       "      <td>14000.000000000</td>\n",
       "      <td>0</td>\n",
       "      <td>31.850000000</td>\n",
       "      <td>0.000000000</td>\n",
       "      <td>10300.000000000</td>\n",
       "      <td>7</td>\n",
       "      <td>769.760000000</td>\n",
       "      <td>13230.240000000</td>\n",
       "      <td>0</td>\n",
       "    </tr>\n",
       "  </tbody>\n",
       "</table>\n",
       "</div>"
      ],
      "text/plain": [
       "           sub_grade    revol_util  issue_d_year        annual_inc  \\\n",
       "member_id                                                            \n",
       "13599771          17  60.000000000          2014   55000.000000000   \n",
       "1491956            4  88.000000000          2012   43000.000000000   \n",
       "64687987          21  52.000000000          2015  101300.000000000   \n",
       "8446850            5  28.900000000          2013   47840.000000000   \n",
       "58471388          17  40.500000000          2015   30000.000000000   \n",
       "\n",
       "                tot_cur_bal  earliest_cr_line_year      int_rate  \\\n",
       "member_id                                                          \n",
       "13599771   144784.000000000         1985.000000000  18.250000000   \n",
       "1491956    139458.189336000         1992.000000000   8.900000000   \n",
       "64687987   106215.000000000         2001.000000000  18.550000000   \n",
       "8446850    129416.000000000         1988.000000000   9.710000000   \n",
       "58471388    15589.000000000         1999.000000000  16.990000000   \n",
       "\n",
       "                 revol_bal   tot_coll_amt     total_acc  term  \\\n",
       "member_id                                                       \n",
       "13599771   10020.000000000    0.000000000  31.000000000     0   \n",
       "1491956    13202.000000000  225.702610320  18.000000000     0   \n",
       "64687987   21467.000000000  770.000000000  27.000000000     1   \n",
       "8446850     6585.000000000  102.000000000  14.000000000     1   \n",
       "58471388    4167.000000000    0.000000000  21.000000000     1   \n",
       "\n",
       "                 loan_amnt  verification_status_Not Verified           dti  \\\n",
       "member_id                                                                    \n",
       "13599771    8875.000000000                                 0  23.650000000   \n",
       "1491956    12500.000000000                                 0  10.580000000   \n",
       "64687987   33600.000000000                                 0  20.000000000   \n",
       "8446850    17000.000000000                                 0   4.010000000   \n",
       "58471388   14000.000000000                                 0  31.850000000   \n",
       "\n",
       "               pub_rec  total_rev_hi_lim  issue_d_month  total_rec_prncp  \\\n",
       "member_id                                                                  \n",
       "13599771   1.000000000   16700.000000000              3   3124.160000000   \n",
       "1491956    0.000000000   32068.620045500              5  12500.000000000   \n",
       "64687987   0.000000000   41300.000000000              9   1047.760000000   \n",
       "8446850    0.000000000   22800.000000000              8  17000.000000000   \n",
       "58471388   0.000000000   10300.000000000              7    769.760000000   \n",
       "\n",
       "                 out_prncp  acc_now_delinq  \n",
       "member_id                                   \n",
       "13599771       0.000000000               0  \n",
       "1491956        0.000000000               0  \n",
       "64687987   32552.240000000               0  \n",
       "8446850        0.000000000               0  \n",
       "58471388   13230.240000000               0  "
      ]
     },
     "execution_count": 67,
     "metadata": {},
     "output_type": "execute_result"
    }
   ],
   "source": [
    "readData.head()"
   ]
  },
  {
   "cell_type": "code",
   "execution_count": 68,
   "metadata": {},
   "outputs": [],
   "source": [
    "def autoSearch(data, cols, label = 'y', fea_map = {}):\n",
    "    total = pd.DataFrame()\n",
    "    ind = pd.Series()\n",
    "    for fea in cols:\n",
    "        data.loc[:,fea] = data.loc[:, fea].astype('str')\n",
    "        ind = pd.DataFrame(pd.Series(data.loc[:,fea].value_counts(), name = '0'))\n",
    "        ind = ind.join(data.groupby(fea)[label].mean())\n",
    "        part1_idx = pd.Series()\n",
    "        for j in range(ind.shape[0]):\n",
    "            name = pd.Series('[' + str(j+1) + ']' + ind.index[j])\n",
    "            part1_idx = part1_idx.append(name)\n",
    "        ind.index = part1_idx\n",
    "        ind['fea_name'] = fea\n",
    "        total = total.append(ind)\n",
    "        total['cn_name'] = total.fea_name.map(fea_map)\n",
    "        total['categories'] = total.index\n",
    "    return total\n",
    "import pylab\n",
    "pylab.rcParams['figure.figsize'] = (10.0, 6.0)"
   ]
  },
  {
   "cell_type": "code",
   "execution_count": null,
   "metadata": {},
   "outputs": [],
   "source": [
    "singleData = readData.copy()\n",
    "column1 = 'revol_util'"
   ]
  },
  {
   "cell_type": "code",
   "execution_count": null,
   "metadata": {},
   "outputs": [],
   "source": [
    "singleData[column1].describe()"
   ]
  },
  {
   "cell_type": "code",
   "execution_count": null,
   "metadata": {},
   "outputs": [],
   "source": [
    "singleData[column1].value_counts()"
   ]
  },
  {
   "cell_type": "code",
   "execution_count": null,
   "metadata": {},
   "outputs": [],
   "source": [
    "column2 = 'tmp_' + column1\n",
    "singleData[column1] = pd.to_numeric(singleData[column1], errors = 'ignore')\n",
    "singleData[column2] = pd.cut(singleData[column1],\n",
    "                [-99999,0,100,200,500,99999999999], labels = ['<0', '(0,100]','(100,200]','(200,500]','>500'])\n",
    "result = "
   ]
  }
 ],
 "metadata": {
  "kernelspec": {
   "display_name": "Python 3",
   "language": "python",
   "name": "python3"
  },
  "language_info": {
   "codemirror_mode": {
    "name": "ipython",
    "version": 3
   },
   "file_extension": ".py",
   "mimetype": "text/x-python",
   "name": "python",
   "nbconvert_exporter": "python",
   "pygments_lexer": "ipython3",
   "version": "3.6.5"
  }
 },
 "nbformat": 4,
 "nbformat_minor": 2
}
